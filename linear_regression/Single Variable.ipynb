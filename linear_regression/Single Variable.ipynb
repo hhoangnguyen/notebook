{
 "cells": [
  {
   "cell_type": "markdown",
   "metadata": {},
   "source": [
    "## Single Variable Linear Regression\n",
    "In this notebook, I workout Gradient Descent algorithm for Single Variable Linear Regression. No built-in models used. Using square error as cost function."
   ]
  },
  {
   "cell_type": "code",
   "execution_count": 1,
   "metadata": {
    "collapsed": true
   },
   "outputs": [],
   "source": [
    "# import\n",
    "import pandas as pd\n",
    "from pylab import *\n",
    "import numpy as np"
   ]
  },
  {
   "cell_type": "code",
   "execution_count": 2,
   "metadata": {},
   "outputs": [
    {
     "name": "stdout",
     "output_type": "stream",
     "text": [
      "Data: {1: 1, 2: 2, 3: 3, 4: 4}\n"
     ]
    }
   ],
   "source": [
    "# test data\n",
    "data = {1:1, 2:2, 3:3, 4:4}\n",
    "print('Data:', data)\n",
    "\n",
    "# setup global variables\n",
    "theta0 = 0\n",
    "theta1 = 0\n",
    "learning_rate = 0.01 # alpha\n",
    "threshold = 0.001"
   ]
  },
  {
   "cell_type": "code",
   "execution_count": 3,
   "metadata": {
    "collapsed": true
   },
   "outputs": [],
   "source": [
    "# format to return 4 decimal places\n",
    "def format_result(result):\n",
    "    return round(result, 4)"
   ]
  },
  {
   "cell_type": "markdown",
   "metadata": {},
   "source": [
    "## Linear Hypothesis:\n",
    "In the case of single variable, we use following equation\n",
    "$$ h(x) = \\theta_0 + {\\theta_1}{x} $$\n",
    "\n",
    "## Sum Square Error:\n",
    "Our goal is to minimize sum square error\n",
    "$$ E(\\theta_0, \\theta_1) = \\frac{1}{2m} \\sum_{i=1}^m (h(x^{(i)}) - y^{(i)})^2 $$"
   ]
  },
  {
   "cell_type": "code",
   "execution_count": 4,
   "metadata": {},
   "outputs": [
    {
     "name": "stdout",
     "output_type": "stream",
     "text": [
      "Error: 3.75\n"
     ]
    }
   ],
   "source": [
    "# hypothesis\n",
    "def h_x(theta0, theta1, x):\n",
    "    return theta0 + theta1 * x\n",
    "\n",
    "# sum square error\n",
    "def cost_function(theta0, theta1):\n",
    "    error = 0\n",
    "    for x in data:\n",
    "        error += (h_x(theta0, theta1, x) - data[x])**2\n",
    "    \n",
    "    # factor in 1/2m\n",
    "    error = (1 / (2 * len(data))) * error\n",
    "    return format_result(error)\n",
    "\n",
    "# test\n",
    "print('Error:', cost_function(0, 0))"
   ]
  },
  {
   "cell_type": "markdown",
   "metadata": {},
   "source": [
    "## Gradients\n",
    "$$ \\frac{\\partial}{\\partial\\theta_0} = \\frac{1}{m} \\sum_1^m (h(x^{(i)}) - y^{(i)}) $$\n",
    "$$ \\frac{\\partial}{\\partial\\theta_1} = \\frac{1}{m} \\sum_1^m (h(x^{(i)}) - y^{(i)}) x^{(i)} $$"
   ]
  },
  {
   "cell_type": "code",
   "execution_count": 5,
   "metadata": {
    "collapsed": true
   },
   "outputs": [],
   "source": [
    "# gradient theta0\n",
    "def gradient_theta0(theta0, theta1):\n",
    "    gradient = 0\n",
    "    for x in data:\n",
    "        gradient += (h_x(theta0, theta1, x) - data[x])\n",
    "    \n",
    "    # factor in 1/m\n",
    "    gradient = (1 / len(data)) * gradient\n",
    "    return format_result(gradient)\n",
    "\n",
    "# gradient theta1\n",
    "def gradient_theta1(theta0, theta1):\n",
    "    gradient = 0\n",
    "    for x in data:\n",
    "        gradient += (h_x(theta0, theta1, x) - data[x]) * x\n",
    "    \n",
    "    # factor in 1/m\n",
    "    gradient = (1 / len(data)) * gradient\n",
    "    return format_result(gradient)"
   ]
  },
  {
   "cell_type": "markdown",
   "metadata": {},
   "source": [
    "## Gradient Descent Algorithm\n",
    "While not within threshold: (simultaneous update)\n",
    "$$ temp_0 = \\theta_0 - \\alpha \\frac{d}{d\\theta_0} $$\n",
    "$$ temp_1 = \\theta_1 - \\alpha \\frac{d}{d\\theta_1} $$\n",
    "$$ \\theta_0 = temp_0 $$\n",
    "$$ \\theta_1 = temp_1 $$"
   ]
  },
  {
   "cell_type": "code",
   "execution_count": 6,
   "metadata": {
    "collapsed": true
   },
   "outputs": [],
   "source": [
    "# gradient descent\n",
    "def gradient_descent(theta0, theta1):    \n",
    "    # simultaneous update\n",
    "    temp0 = theta0 - learning_rate * gradient_theta0(theta0, theta1)\n",
    "    temp1 = theta1 - learning_rate * gradient_theta1(theta0, theta1)\n",
    "    return (format_result(temp0), format_result(temp1))"
   ]
  },
  {
   "cell_type": "code",
   "execution_count": 7,
   "metadata": {},
   "outputs": [
    {
     "name": "stdout",
     "output_type": "stream",
     "text": [
      "(theta0, theta1): (0.112, 0.962) Error: 0.001\n"
     ]
    }
   ],
   "source": [
    "def linear_regression_single_variable(theta0, theta1):\n",
    "    # keep going if error is not within threshold\n",
    "    while cost_function(theta0, theta1) > threshold:\n",
    "        # temp thetas\n",
    "        (new_theta0, new_theta1) = gradient_descent(theta0, theta1)\n",
    "        # simultaneous update\n",
    "        (theta0, theta1) = (new_theta0, new_theta1)        \n",
    "    return (theta0, theta1)\n",
    "\n",
    "(theta0, theta1) = linear_regression_single_variable(theta0, theta1)\n",
    "print('(theta0, theta1):', (theta0, theta1), 'Error:', cost_function(theta0, theta1))"
   ]
  },
  {
   "cell_type": "code",
   "execution_count": 9,
   "metadata": {},
   "outputs": [
    {
     "data": {
      "image/png": "[encoded data removed]",
      "text/plain": [
       "<matplotlib.figure.Figure at 0x205338e34e0>"
      ]
     },
     "metadata": {},
     "output_type": "display_data"
    }
   ],
   "source": [
    "s = pd.Series(data)\n",
    "\n",
    "# plot actual data, red\n",
    "plot(s, 'r')\n",
    "xlabel('x')\n",
    "ylabel('y')\n",
    "title('Data')\n",
    "\n",
    "# plot hypothesis, blue\n",
    "x = np.linspace(1, 4, 4)\n",
    "y = theta0 + theta1 * x\n",
    "plot(x, y, 'b--')\n",
    "\n",
    "show()"
   ]
  }
 ],
 "metadata": {
  "kernelspec": {
   "display_name": "Python 3",
   "language": "python",
   "name": "python3"
  },
  "language_info": {
   "codemirror_mode": {
    "name": "ipython",
    "version": 3.0
   },
   "file_extension": ".py",
   "mimetype": "text/x-python",
   "name": "python",
   "nbconvert_exporter": "python",
   "pygments_lexer": "ipython3",
   "version": "3.5.2"
  }
 },
 "nbformat": 4,
 "nbformat_minor": 0
}