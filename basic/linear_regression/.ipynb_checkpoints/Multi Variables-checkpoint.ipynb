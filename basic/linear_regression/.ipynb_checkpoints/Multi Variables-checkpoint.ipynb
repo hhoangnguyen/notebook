{
 "cells": [
  {
   "cell_type": "markdown",
   "metadata": {},
   "source": [
    "## Multi Variables Linear Regression\n",
    "In this notebook, I workout Gradient Descent algorithm for Multi Variable Linear Regression. No built-in models used. Using square error as cost function.\n",
    "\n",
    "Numpy and Linear Algebra knowledge is extremely helpful. The code is much simpler and easier to understand.\n",
    "\n",
    "In order to test and visualize result, we're using 2 variables though any number of variables should still work"
   ]
  },
  {
   "cell_type": "code",
   "execution_count": 1,
   "metadata": {
    "collapsed": true
   },
   "outputs": [],
   "source": [
    "# import\n",
    "import pandas as pd\n",
    "from pylab import *\n",
    "import numpy as np\n",
    "\n",
    "# 3d scatter plot\n",
    "from mpl_toolkits.mplot3d import Axes3D\n",
    "import matplotlib.pyplot as plt"
   ]
  },
  {
   "cell_type": "code",
   "execution_count": 2,
   "metadata": {},
   "outputs": [
    {
     "name": "stdout",
     "output_type": "stream",
     "text": [
      "Data: \n",
      " [[1 1 1]\n",
      " [1 2 3]\n",
      " [1 3 4]\n",
      " [1 4 5]] \n",
      " y: [1 2 3 4]\n"
     ]
    }
   ],
   "source": [
    "# in order to test and visualize result, we're using 2 variables\n",
    "X = np.array([[1, 1, 1], [1, 2, 3], [1, 3, 4], [1, 4, 5]])\n",
    "Y = np.array([1, 2, 3, 4])\n",
    "print('Training data:', '\\n', X, '\\n', 'y:', Y)\n",
    "\n",
    "# setup global variables\n",
    "theta = np.array([0, 0, 0], dtype='int64')\n",
    "\n",
    "# adjust these to see effects\n",
    "learning_rate = 0.001 # alpha\n",
    "threshold = 0.001\n",
    "\n",
    "# format output to show to 4 decimal places\n",
    "np.set_printoptions(precision=4)"
   ]
  },
  {
   "cell_type": "markdown",
   "metadata": {},
   "source": [
    "## Linear Hypothesis:\n",
    "In the case of multi variables, we use following equation:\n",
    "$$ h(x) = \\theta_0{x_0} + {\\theta_1}{x_1} + {\\theta_2}{x_2} = \\Theta^T X $$\n",
    "\n",
    "## Sum Square Error:\n",
    "Our goal is to minimize sum square error\n",
    "$$ E(\\Theta) = \\frac{1}{2m} \\sum_{i=1}^m (h(x^{(i)}) - y^{(i)})^2 $$"
   ]
  },
  {
   "cell_type": "code",
   "execution_count": 3,
   "metadata": {},
   "outputs": [
    {
     "name": "stdout",
     "output_type": "stream",
     "text": [
      "h(x): [0 0 0 0]\n",
      "Error: 5.0\n"
     ]
    }
   ],
   "source": [
    "# hypothesis\n",
    "def h_x(theta, X):\n",
    "    return np.dot(X, theta)\n",
    "\n",
    "# sum square error\n",
    "def cost_function(theta):\n",
    "    error = (np.subtract(h_x(theta, X), Y)) ** 2\n",
    "    return np.sum(error) * 1 / (2*len(theta))\n",
    "\n",
    "# test\n",
    "print('h(x):', h_x(theta, X))\n",
    "print('Error:', cost_function(theta))"
   ]
  },
  {
   "cell_type": "markdown",
   "metadata": {},
   "source": [
    "## Gradients\n",
    "$$ \\frac{\\partial}{\\partial\\theta_j} = \\frac{1}{m} \\sum_1^m (h(x^{(i)}) - y^{(i)}) x_j^{(i)} $$"
   ]
  },
  {
   "cell_type": "code",
   "execution_count": 4,
   "metadata": {},
   "outputs": [
    {
     "name": "stdout",
     "output_type": "stream",
     "text": [
      "Gradient: [ -3.3333 -10.     -13.    ]\n"
     ]
    }
   ],
   "source": [
    "def gradient(theta):    \n",
    "    gradient = np.dot(h_x(theta, X) - Y, X)\n",
    "    return gradient * 1 / len(theta)\n",
    "\n",
    "# test\n",
    "print('Gradient:', gradient(theta))"
   ]
  },
  {
   "cell_type": "markdown",
   "metadata": {},
   "source": [
    "## Gradient Descent Algorithm\n",
    "While not within threshold: (simultaneous update)\n",
    "$$ \\theta_j = \\theta_j - \\alpha \\frac{\\partial}{\\partial\\theta_j} $$"
   ]
  },
  {
   "cell_type": "code",
   "execution_count": 5,
   "metadata": {},
   "outputs": [
    {
     "name": "stdout",
     "output_type": "stream",
     "text": [
      "(theta: [ 0.0123  0.8131  0.1401] Error: 0.000999942903151\n"
     ]
    }
   ],
   "source": [
    "# gradient descent\n",
    "def linear_regression_multi_variables(theta):\n",
    "    # keep going if error is not within threshold\n",
    "    while cost_function(theta) > threshold:        \n",
    "        theta = theta - learning_rate * gradient(theta)        \n",
    "    return theta\n",
    "\n",
    "theta = linear_regression_multi_variables(theta)\n",
    "print('(theta:', theta, 'Error:', cost_function(theta))"
   ]
  },
  {
   "cell_type": "code",
   "execution_count": 6,
   "metadata": {
    "collapsed": true
   },
   "outputs": [],
   "source": [
    "# 3d scatter plot\n",
    "def my_plot(data, c, m):\n",
    "    for row in data:\n",
    "        ax.scatter(row[0], row[1], row[2], zdir='z', c=c, marker=m) \n",
    "    ax.set_xlabel('x_1')\n",
    "    ax.set_ylabel('x_2')\n",
    "    ax.set_zlabel('y')"
   ]
  },
  {
   "cell_type": "code",
   "execution_count": 7,
   "metadata": {},
   "outputs": [
    {
     "name": "stdout",
     "output_type": "stream",
     "text": [
      "Training data: \n",
      " [[1 1 1]\n",
      " [2 3 2]\n",
      " [3 4 3]\n",
      " [4 5 4]]\n",
      "Predicted data: \n",
      " [[ 1.      1.      0.9655]\n",
      " [ 2.      3.      2.0588]\n",
      " [ 3.      4.      3.012 ]\n",
      " [ 4.      5.      3.9651]]\n"
     ]
    },
    {
     "data": {
      "image/png": "[encoded data removed]",
      "text/plain": [
       "<matplotlib.figure.Figure at 0x23ef98666a0>"
      ]
     },
     "metadata": {},
     "output_type": "display_data"
    }
   ],
   "source": [
    "# initialize here once so we can draw both data on the same plot\n",
    "fig = plt.figure()\n",
    "ax = fig.add_subplot(111, projection='3d')\n",
    "\n",
    "# we don't need to use bias terms for plots\n",
    "X_nonbias = X[:, [1, 2]]\n",
    "\n",
    "training_data = np.c_[X_nonbias, Y]\n",
    "print('Training data:', '\\n', training_data)\n",
    "my_plot(training_data, 'r', 'o')\n",
    "\n",
    "predicted_data = np.c_[X_nonbias, h_x(theta, X)]\n",
    "print('Predicted data:', '\\n', predicted_data)\n",
    "my_plot(predicted_data, 'b', '^')\n",
    "\n",
    "plt.show()"
   ]
  }
 ],
 "metadata": {
  "kernelspec": {
   "display_name": "Python 3",
   "language": "python",
   "name": "python3"
  },
  "language_info": {
   "codemirror_mode": {
    "name": "ipython",
    "version": 3
   },
   "file_extension": ".py",
   "mimetype": "text/x-python",
   "name": "python",
   "nbconvert_exporter": "python",
   "pygments_lexer": "ipython3",
   "version": "3.5.2"
  }
 },
 "nbformat": 4,
 "nbformat_minor": 2
}
